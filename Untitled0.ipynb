{
  "nbformat": 4,
  "nbformat_minor": 0,
  "metadata": {
    "colab": {
      "provenance": [],
      "gpuType": "T4"
    },
    "kernelspec": {
      "name": "python3",
      "display_name": "Python 3"
    },
    "language_info": {
      "name": "python"
    },
    "accelerator": "GPU"
  },
  "cells": [
    {
      "cell_type": "code",
      "execution_count": 2,
      "metadata": {
        "id": "gwqGwAZHuvGf",
        "colab": {
          "base_uri": "https://localhost:8080/"
        },
        "outputId": "64c983b6-ebcc-4538-8017-89929de629ec"
      },
      "outputs": [
        {
          "output_type": "stream",
          "name": "stdout",
          "text": [
            "apple\n",
            "banana\n",
            "orange\n",
            "grape\n"
          ]
        }
      ],
      "source": [
        "t=('apple','banana','orange','grape')\n",
        "a, b, c, d = t\n",
        "print(a)\n",
        "print(b)\n",
        "print(c)\n",
        "print(d)"
      ]
    },
    {
      "cell_type": "code",
      "source": [
        "t=('apple','banana','orange','grape')\n",
        "print(t[0])\n",
        "print(t[1])\n",
        "print(t[2])\n",
        "print(t[3])"
      ],
      "metadata": {
        "colab": {
          "base_uri": "https://localhost:8080/"
        },
        "id": "CLVRsrZExN74",
        "outputId": "06259c31-694d-498e-d952-36670e2ba789"
      },
      "execution_count": 3,
      "outputs": [
        {
          "output_type": "stream",
          "name": "stdout",
          "text": [
            "apple\n",
            "banana\n",
            "orange\n",
            "grape\n"
          ]
        }
      ]
    },
    {
      "cell_type": "code",
      "source": [
        "t1=('apple','banana','orange')\n",
        "t2=('grape','pineapple')\n",
        "t = t1 + t2\n",
        "print(t)"
      ],
      "metadata": {
        "colab": {
          "base_uri": "https://localhost:8080/"
        },
        "id": "ZuOz_KKexrXV",
        "outputId": "eb618477-8f21-44d0-9879-653b43772549"
      },
      "execution_count": 4,
      "outputs": [
        {
          "output_type": "stream",
          "name": "stdout",
          "text": [
            "('apple', 'banana', 'orange', 'grape', 'pineapple')\n"
          ]
        }
      ]
    },
    {
      "cell_type": "code",
      "source": [
        "a=2\n",
        "b=3\n",
        "if a>b:\n",
        "  print('hello')\n",
        "print('ok')"
      ],
      "metadata": {
        "colab": {
          "base_uri": "https://localhost:8080/"
        },
        "id": "O_nsnr8fyPE6",
        "outputId": "0c2c1809-edb2-4370-c03d-b2104b60007a"
      },
      "execution_count": 5,
      "outputs": [
        {
          "output_type": "stream",
          "name": "stdout",
          "text": [
            "ok\n"
          ]
        }
      ]
    },
    {
      "cell_type": "code",
      "source": [
        "a=2\n",
        "b=3\n",
        "if a>b:\n",
        "  print('hello')\n",
        "else:\n",
        "  print('world')\n",
        "print('ok')"
      ],
      "metadata": {
        "colab": {
          "base_uri": "https://localhost:8080/"
        },
        "id": "PJCmNMZ6yfaF",
        "outputId": "2f7df736-ad93-4546-86ce-7c369c683867"
      },
      "execution_count": 7,
      "outputs": [
        {
          "output_type": "stream",
          "name": "stdout",
          "text": [
            "world\n",
            "ok\n"
          ]
        }
      ]
    },
    {
      "cell_type": "code",
      "source": [
        "a=2\n",
        "b=3\n",
        "if a<b:\n",
        "  print('a<b')\n",
        "  if a==1:\n",
        "    print('a=1')\n",
        "  elif a==2:\n",
        "    print('a=2')\n",
        "  elif a==3:\n",
        "    print('a=3')\n",
        "elif a>b:\n",
        "  print('a>b')\n",
        "else:\n",
        "  print('a=b')\n",
        "print('ok')"
      ],
      "metadata": {
        "colab": {
          "base_uri": "https://localhost:8080/"
        },
        "id": "chM4LCQJyzAm",
        "outputId": "d735671b-c1f9-4b38-c7f3-9247df30ef5e"
      },
      "execution_count": 8,
      "outputs": [
        {
          "output_type": "stream",
          "name": "stdout",
          "text": [
            "a<b\n",
            "a=2\n",
            "ok\n"
          ]
        }
      ]
    },
    {
      "cell_type": "code",
      "source": [
        "a=2\n",
        "b=3\n",
        "c=0\n",
        "if a>b or a<c and a==2 or b==4:\n",
        "  print('ok1')\n",
        "else:\n",
        "  print('xxx')"
      ],
      "metadata": {
        "colab": {
          "base_uri": "https://localhost:8080/"
        },
        "id": "S8ynsIJvziV_",
        "outputId": "d05e4941-a352-467c-8364-f8b824f852b6"
      },
      "execution_count": 9,
      "outputs": [
        {
          "output_type": "stream",
          "name": "stdout",
          "text": [
            "xxx\n"
          ]
        }
      ]
    },
    {
      "cell_type": "code",
      "source": [
        "for a in ['x','y','z']:\n",
        "  for b in [1,2,3]:\n",
        "    print(b)\n",
        "  print(a)"
      ],
      "metadata": {
        "colab": {
          "base_uri": "https://localhost:8080/"
        },
        "id": "hLdCrcYzz58H",
        "outputId": "531a1342-2af2-4fb2-cc0b-36c77faccf7a"
      },
      "execution_count": 12,
      "outputs": [
        {
          "output_type": "stream",
          "name": "stdout",
          "text": [
            "1\n",
            "2\n",
            "3\n",
            "x\n",
            "1\n",
            "2\n",
            "3\n",
            "y\n",
            "1\n",
            "2\n",
            "3\n",
            "z\n"
          ]
        }
      ]
    },
    {
      "cell_type": "code",
      "source": [
        "for a in ['x','y','z']:\n",
        "  for b in [1,2,3]:\n",
        "    print(f'{a}{b}')"
      ],
      "metadata": {
        "colab": {
          "base_uri": "https://localhost:8080/"
        },
        "id": "AmqRzRF00XH0",
        "outputId": "507272b8-5269-4003-b780-e306cb15a332"
      },
      "execution_count": 13,
      "outputs": [
        {
          "output_type": "stream",
          "name": "stdout",
          "text": [
            "x1\n",
            "x2\n",
            "x3\n",
            "y1\n",
            "y2\n",
            "y3\n",
            "z1\n",
            "z2\n",
            "z3\n"
          ]
        }
      ]
    },
    {
      "cell_type": "code",
      "source": [
        "i=[]\n",
        "for t in range(10):\n",
        "  t+=1\n",
        "  i.append(t)\n",
        "i"
      ],
      "metadata": {
        "colab": {
          "base_uri": "https://localhost:8080/"
        },
        "id": "FQcdm3U10psV",
        "outputId": "8106f4f0-2eff-458b-b0c1-58183be17191"
      },
      "execution_count": 14,
      "outputs": [
        {
          "output_type": "execute_result",
          "data": {
            "text/plain": [
              "[1, 2, 3, 4, 5, 6, 7, 8, 9, 10]"
            ]
          },
          "metadata": {},
          "execution_count": 14
        }
      ]
    },
    {
      "cell_type": "code",
      "source": [
        "try:\n",
        "  a=input('輸入數字:')\n",
        "  print(a+1)\n",
        "except:\n",
        "  pass\n",
        "print('hello')"
      ],
      "metadata": {
        "colab": {
          "base_uri": "https://localhost:8080/"
        },
        "id": "VWJgBwwW4Ix5",
        "outputId": "14515b0a-511a-4704-a646-8c2d8dc9a7e9"
      },
      "execution_count": 17,
      "outputs": [
        {
          "output_type": "stream",
          "name": "stdout",
          "text": [
            "輸入數字:1\n",
            "hello\n"
          ]
        }
      ]
    },
    {
      "cell_type": "code",
      "source": [
        "a=[]\n",
        "for i in range(1, 10):\n",
        "  a.append(i*i)\n",
        "print(a)"
      ],
      "metadata": {
        "colab": {
          "base_uri": "https://localhost:8080/"
        },
        "id": "HK0QrAUz5dTC",
        "outputId": "ae4e02e4-b8a5-4e76-8970-d7b757126f7d"
      },
      "execution_count": 19,
      "outputs": [
        {
          "output_type": "stream",
          "name": "stdout",
          "text": [
            "[1, 4, 9, 16, 25, 36, 49, 64, 81]\n"
          ]
        }
      ]
    },
    {
      "cell_type": "code",
      "source": [
        "b=[j*j for j in range(1,10)]\n",
        "print(b)"
      ],
      "metadata": {
        "colab": {
          "base_uri": "https://localhost:8080/"
        },
        "id": "gfb6hvU3409e",
        "outputId": "836107e9-5ee4-4d83-8b88-094c90d10f36"
      },
      "execution_count": 20,
      "outputs": [
        {
          "output_type": "stream",
          "name": "stdout",
          "text": [
            "[1, 4, 9, 16, 25, 36, 49, 64, 81]\n"
          ]
        }
      ]
    }
  ]
}